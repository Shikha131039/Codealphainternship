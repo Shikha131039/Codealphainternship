{
 "cells": [
  {
   "cell_type": "code",
   "execution_count": 1,
   "id": "734b119f",
   "metadata": {},
   "outputs": [
    {
     "name": "stdout",
     "output_type": "stream",
     "text": [
      "Generated Password: megJ2t&#e!m0\n"
     ]
    }
   ],
   "source": [
    "import random\n",
    "import string\n",
    "\n",
    "def generate_password(length=16, use_lowercase=True, use_uppercase=True, use_digits=True, use_special_chars=True):\n",
    "    # Define character pools based on criteria\n",
    "    lowercase_chars = string.ascii_lowercase if use_lowercase else ''\n",
    "    uppercase_chars = string.ascii_uppercase if use_uppercase else ''\n",
    "    digit_chars = string.digits if use_digits else ''\n",
    "    special_chars = string.punctuation if use_special_chars else ''\n",
    "\n",
    "    # Combine character pools\n",
    "    all_chars = lowercase_chars + uppercase_chars + digit_chars + special_chars\n",
    "\n",
    "    # Ensure that at least one character from each category is included\n",
    "    password = (\n",
    "        random.choice(string.ascii_lowercase) +\n",
    "        random.choice(string.ascii_uppercase) +\n",
    "        random.choice(string.digits) +\n",
    "        random.choice(string.punctuation)\n",
    "    )\n",
    "\n",
    "    # Fill the remaining length with random characters from the combined pool\n",
    "    password += ''.join(random.choice(all_chars) for _ in range(length - 4))\n",
    "\n",
    "    # Shuffle the characters to make the password more random\n",
    "    password_list = list(password)\n",
    "    random.shuffle(password_list)\n",
    "    password = ''.join(password_list)\n",
    "\n",
    "    return password\n",
    "\n",
    "# Usage example with various criteria\n",
    "password = generate_password(length=12, use_lowercase=True, use_uppercase=True, use_digits=True, use_special_chars=True)\n",
    "print(\"Generated Password:\", password)\n"
   ]
  },
  {
   "cell_type": "code",
   "execution_count": null,
   "id": "f1bdd02c",
   "metadata": {},
   "outputs": [],
   "source": []
  },
  {
   "cell_type": "code",
   "execution_count": null,
   "id": "a608b190",
   "metadata": {},
   "outputs": [],
   "source": []
  }
 ],
 "metadata": {
  "kernelspec": {
   "display_name": "Python 3 (ipykernel)",
   "language": "python",
   "name": "python3"
  },
  "language_info": {
   "codemirror_mode": {
    "name": "ipython",
    "version": 3
   },
   "file_extension": ".py",
   "mimetype": "text/x-python",
   "name": "python",
   "nbconvert_exporter": "python",
   "pygments_lexer": "ipython3",
   "version": "3.9.13"
  }
 },
 "nbformat": 4,
 "nbformat_minor": 5
}
